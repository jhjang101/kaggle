{
 "cells": [
  {
   "cell_type": "markdown",
   "id": "e338e3d2-693d-4d55-ab57-3232c1d95998",
   "metadata": {},
   "source": [
    "# Modules, Settings"
   ]
  },
  {
   "cell_type": "code",
   "execution_count": 1,
   "id": "adccf4e3-ef92-4576-9849-63639a78ae30",
   "metadata": {},
   "outputs": [],
   "source": [
    "import numpy as np\n",
    "import pandas as pd\n",
    "import matplotlib.pyplot as plt\n",
    "import seaborn as sns\n",
    "from sklearn.linear_model import LinearRegression"
   ]
  },
  {
   "cell_type": "code",
   "execution_count": 26,
   "id": "96fdd5da-8768-47ff-a0ae-4789f7eb5e3c",
   "metadata": {},
   "outputs": [],
   "source": [
    "# changing the max_columns value\n",
    "pd.set_option(\"display.max_columns\", None)\n",
    "\n",
    "# set seaborn theme\n",
    "sns.set_theme()"
   ]
  },
  {
   "cell_type": "markdown",
   "id": "b42068a7-f50d-45a9-acfa-151c68c63985",
   "metadata": {},
   "source": [
    "# Functions"
   ]
  },
  {
   "cell_type": "markdown",
   "id": "5d49384f-375e-4041-927f-29014f046be7",
   "metadata": {},
   "source": [
    "# Dataset\n",
    "**Auto-mpg dataset** - Mileage per gallon performances of various cars.\n",
    "\n",
    "This dataset is a slightly modified version of the dataset provided in the StatLib library. In line with the use by Ross Quinlan (1993) in predicting the attribute \"mpg\", 8 of the original instances were removed because they had unknown values for the \"mpg\" attribute. This dataset and the original dataset is available in Kaggle https://www.kaggle.com/datasets/uciml/autompg-dataset"
   ]
  },
  {
   "cell_type": "code",
   "execution_count": 2,
   "id": "fc16e484-27d3-4f07-8e6a-c7ca887c2d95",
   "metadata": {},
   "outputs": [
    {
     "data": {
      "text/html": [
       "<div>\n",
       "<style scoped>\n",
       "    .dataframe tbody tr th:only-of-type {\n",
       "        vertical-align: middle;\n",
       "    }\n",
       "\n",
       "    .dataframe tbody tr th {\n",
       "        vertical-align: top;\n",
       "    }\n",
       "\n",
       "    .dataframe thead th {\n",
       "        text-align: right;\n",
       "    }\n",
       "</style>\n",
       "<table border=\"1\" class=\"dataframe\">\n",
       "  <thead>\n",
       "    <tr style=\"text-align: right;\">\n",
       "      <th></th>\n",
       "      <th>mpg</th>\n",
       "      <th>cylinders</th>\n",
       "      <th>displacement</th>\n",
       "      <th>horsepower</th>\n",
       "      <th>weight</th>\n",
       "      <th>acceleration</th>\n",
       "      <th>model year</th>\n",
       "      <th>origin</th>\n",
       "      <th>car name</th>\n",
       "    </tr>\n",
       "  </thead>\n",
       "  <tbody>\n",
       "    <tr>\n",
       "      <th>0</th>\n",
       "      <td>18.0</td>\n",
       "      <td>8</td>\n",
       "      <td>307.0</td>\n",
       "      <td>130</td>\n",
       "      <td>3504</td>\n",
       "      <td>12.0</td>\n",
       "      <td>70</td>\n",
       "      <td>1</td>\n",
       "      <td>chevrolet chevelle malibu</td>\n",
       "    </tr>\n",
       "    <tr>\n",
       "      <th>1</th>\n",
       "      <td>15.0</td>\n",
       "      <td>8</td>\n",
       "      <td>350.0</td>\n",
       "      <td>165</td>\n",
       "      <td>3693</td>\n",
       "      <td>11.5</td>\n",
       "      <td>70</td>\n",
       "      <td>1</td>\n",
       "      <td>buick skylark 320</td>\n",
       "    </tr>\n",
       "    <tr>\n",
       "      <th>2</th>\n",
       "      <td>18.0</td>\n",
       "      <td>8</td>\n",
       "      <td>318.0</td>\n",
       "      <td>150</td>\n",
       "      <td>3436</td>\n",
       "      <td>11.0</td>\n",
       "      <td>70</td>\n",
       "      <td>1</td>\n",
       "      <td>plymouth satellite</td>\n",
       "    </tr>\n",
       "    <tr>\n",
       "      <th>3</th>\n",
       "      <td>16.0</td>\n",
       "      <td>8</td>\n",
       "      <td>304.0</td>\n",
       "      <td>150</td>\n",
       "      <td>3433</td>\n",
       "      <td>12.0</td>\n",
       "      <td>70</td>\n",
       "      <td>1</td>\n",
       "      <td>amc rebel sst</td>\n",
       "    </tr>\n",
       "    <tr>\n",
       "      <th>4</th>\n",
       "      <td>17.0</td>\n",
       "      <td>8</td>\n",
       "      <td>302.0</td>\n",
       "      <td>140</td>\n",
       "      <td>3449</td>\n",
       "      <td>10.5</td>\n",
       "      <td>70</td>\n",
       "      <td>1</td>\n",
       "      <td>ford torino</td>\n",
       "    </tr>\n",
       "  </tbody>\n",
       "</table>\n",
       "</div>"
      ],
      "text/plain": [
       "    mpg  cylinders  displacement horsepower  weight  acceleration  model year  \\\n",
       "0  18.0          8         307.0        130    3504          12.0          70   \n",
       "1  15.0          8         350.0        165    3693          11.5          70   \n",
       "2  18.0          8         318.0        150    3436          11.0          70   \n",
       "3  16.0          8         304.0        150    3433          12.0          70   \n",
       "4  17.0          8         302.0        140    3449          10.5          70   \n",
       "\n",
       "   origin                   car name  \n",
       "0       1  chevrolet chevelle malibu  \n",
       "1       1          buick skylark 320  \n",
       "2       1         plymouth satellite  \n",
       "3       1              amc rebel sst  \n",
       "4       1                ford torino  "
      ]
     },
     "execution_count": 2,
     "metadata": {},
     "output_type": "execute_result"
    }
   ],
   "source": [
    "df = pd.read_csv('auto-mpg.csv')\n",
    "df.head()"
   ]
  },
  {
   "cell_type": "code",
   "execution_count": 3,
   "id": "69ae9c85-cdc5-49c5-8372-ba1e3e3d7f07",
   "metadata": {},
   "outputs": [
    {
     "name": "stdout",
     "output_type": "stream",
     "text": [
      "<class 'pandas.core.frame.DataFrame'>\n",
      "RangeIndex: 398 entries, 0 to 397\n",
      "Data columns (total 9 columns):\n",
      " #   Column        Non-Null Count  Dtype  \n",
      "---  ------        --------------  -----  \n",
      " 0   mpg           398 non-null    float64\n",
      " 1   cylinders     398 non-null    int64  \n",
      " 2   displacement  398 non-null    float64\n",
      " 3   horsepower    398 non-null    object \n",
      " 4   weight        398 non-null    int64  \n",
      " 5   acceleration  398 non-null    float64\n",
      " 6   model year    398 non-null    int64  \n",
      " 7   origin        398 non-null    int64  \n",
      " 8   car name      398 non-null    object \n",
      "dtypes: float64(3), int64(4), object(2)\n",
      "memory usage: 28.1+ KB\n"
     ]
    }
   ],
   "source": [
    "df.info()"
   ]
  },
  {
   "cell_type": "code",
   "execution_count": 4,
   "id": "a3194aeb-c3ac-4c74-a00c-1bdeb4bbacea",
   "metadata": {},
   "outputs": [
    {
     "data": {
      "text/plain": [
       "array(['130', '165', '150', '140', '198', '220', '215', '225', '190',\n",
       "       '170', '160', '95', '97', '85', '88', '46', '87', '90', '113',\n",
       "       '200', '210', '193', '?', '100', '105', '175', '153', '180', '110',\n",
       "       '72', '86', '70', '76', '65', '69', '60', '80', '54', '208', '155',\n",
       "       '112', '92', '145', '137', '158', '167', '94', '107', '230', '49',\n",
       "       '75', '91', '122', '67', '83', '78', '52', '61', '93', '148',\n",
       "       '129', '96', '71', '98', '115', '53', '81', '79', '120', '152',\n",
       "       '102', '108', '68', '58', '149', '89', '63', '48', '66', '139',\n",
       "       '103', '125', '133', '138', '135', '142', '77', '62', '132', '84',\n",
       "       '64', '74', '116', '82'], dtype=object)"
      ]
     },
     "execution_count": 4,
     "metadata": {},
     "output_type": "execute_result"
    }
   ],
   "source": [
    "df['horsepower'].unique()"
   ]
  },
  {
   "cell_type": "code",
   "execution_count": 5,
   "id": "29e00c82-7fc7-485e-9279-cb94d5571501",
   "metadata": {},
   "outputs": [
    {
     "data": {
      "text/html": [
       "<div>\n",
       "<style scoped>\n",
       "    .dataframe tbody tr th:only-of-type {\n",
       "        vertical-align: middle;\n",
       "    }\n",
       "\n",
       "    .dataframe tbody tr th {\n",
       "        vertical-align: top;\n",
       "    }\n",
       "\n",
       "    .dataframe thead th {\n",
       "        text-align: right;\n",
       "    }\n",
       "</style>\n",
       "<table border=\"1\" class=\"dataframe\">\n",
       "  <thead>\n",
       "    <tr style=\"text-align: right;\">\n",
       "      <th></th>\n",
       "      <th>mpg</th>\n",
       "      <th>cylinders</th>\n",
       "      <th>displacement</th>\n",
       "      <th>horsepower</th>\n",
       "      <th>weight</th>\n",
       "      <th>acceleration</th>\n",
       "      <th>model year</th>\n",
       "      <th>origin</th>\n",
       "      <th>car name</th>\n",
       "    </tr>\n",
       "  </thead>\n",
       "  <tbody>\n",
       "    <tr>\n",
       "      <th>32</th>\n",
       "      <td>25.0</td>\n",
       "      <td>4</td>\n",
       "      <td>98.0</td>\n",
       "      <td>?</td>\n",
       "      <td>2046</td>\n",
       "      <td>19.0</td>\n",
       "      <td>71</td>\n",
       "      <td>1</td>\n",
       "      <td>ford pinto</td>\n",
       "    </tr>\n",
       "    <tr>\n",
       "      <th>126</th>\n",
       "      <td>21.0</td>\n",
       "      <td>6</td>\n",
       "      <td>200.0</td>\n",
       "      <td>?</td>\n",
       "      <td>2875</td>\n",
       "      <td>17.0</td>\n",
       "      <td>74</td>\n",
       "      <td>1</td>\n",
       "      <td>ford maverick</td>\n",
       "    </tr>\n",
       "    <tr>\n",
       "      <th>330</th>\n",
       "      <td>40.9</td>\n",
       "      <td>4</td>\n",
       "      <td>85.0</td>\n",
       "      <td>?</td>\n",
       "      <td>1835</td>\n",
       "      <td>17.3</td>\n",
       "      <td>80</td>\n",
       "      <td>2</td>\n",
       "      <td>renault lecar deluxe</td>\n",
       "    </tr>\n",
       "    <tr>\n",
       "      <th>336</th>\n",
       "      <td>23.6</td>\n",
       "      <td>4</td>\n",
       "      <td>140.0</td>\n",
       "      <td>?</td>\n",
       "      <td>2905</td>\n",
       "      <td>14.3</td>\n",
       "      <td>80</td>\n",
       "      <td>1</td>\n",
       "      <td>ford mustang cobra</td>\n",
       "    </tr>\n",
       "    <tr>\n",
       "      <th>354</th>\n",
       "      <td>34.5</td>\n",
       "      <td>4</td>\n",
       "      <td>100.0</td>\n",
       "      <td>?</td>\n",
       "      <td>2320</td>\n",
       "      <td>15.8</td>\n",
       "      <td>81</td>\n",
       "      <td>2</td>\n",
       "      <td>renault 18i</td>\n",
       "    </tr>\n",
       "    <tr>\n",
       "      <th>374</th>\n",
       "      <td>23.0</td>\n",
       "      <td>4</td>\n",
       "      <td>151.0</td>\n",
       "      <td>?</td>\n",
       "      <td>3035</td>\n",
       "      <td>20.5</td>\n",
       "      <td>82</td>\n",
       "      <td>1</td>\n",
       "      <td>amc concord dl</td>\n",
       "    </tr>\n",
       "  </tbody>\n",
       "</table>\n",
       "</div>"
      ],
      "text/plain": [
       "      mpg  cylinders  displacement horsepower  weight  acceleration  \\\n",
       "32   25.0          4          98.0          ?    2046          19.0   \n",
       "126  21.0          6         200.0          ?    2875          17.0   \n",
       "330  40.9          4          85.0          ?    1835          17.3   \n",
       "336  23.6          4         140.0          ?    2905          14.3   \n",
       "354  34.5          4         100.0          ?    2320          15.8   \n",
       "374  23.0          4         151.0          ?    3035          20.5   \n",
       "\n",
       "     model year  origin              car name  \n",
       "32           71       1            ford pinto  \n",
       "126          74       1         ford maverick  \n",
       "330          80       2  renault lecar deluxe  \n",
       "336          80       1    ford mustang cobra  \n",
       "354          81       2           renault 18i  \n",
       "374          82       1        amc concord dl  "
      ]
     },
     "execution_count": 5,
     "metadata": {},
     "output_type": "execute_result"
    }
   ],
   "source": [
    "df[df['horsepower'] == '?']"
   ]
  },
  {
   "cell_type": "code",
   "execution_count": 17,
   "id": "90b43926-7875-4bab-904c-f63c0ec46d04",
   "metadata": {
    "jupyter": {
     "source_hidden": true
    },
    "tags": []
   },
   "outputs": [
    {
     "data": {
      "text/html": [
       "<style>\n",
       "  table {margin-left: 0 !important;}\n",
       "</style>\n"
      ],
      "text/plain": [
       "<IPython.core.display.HTML object>"
      ]
     },
     "metadata": {},
     "output_type": "display_data"
    }
   ],
   "source": [
    "%%html\n",
    "<style>\n",
    "  table {margin-left: 0 !important;}\n",
    "</style>"
   ]
  },
  {
   "cell_type": "markdown",
   "id": "dbaf0a0b-728f-471e-abd3-b1f7dbccba25",
   "metadata": {},
   "source": [
    "Web searches to find some missing data;\n",
    "\n",
    "| Model          | horsepower |\n",
    "|:--------------:|:----------:|\n",
    "| ford pinto 71' | 75         |\n",
    "| ford maverick 74' | 82      |\n",
    "| renault lecar deluxe 80' | 50  |\n",
    "| ford mustang cobra 80' | 88 |\n",
    "| renault 18i 81' | 82 |\n",
    "| amc concord dl 82' | 82 |\n",
    "\n",
    "Add the hoesepower to the table"
   ]
  },
  {
   "cell_type": "code",
   "execution_count": 6,
   "id": "24d8dfab-4039-42ec-97b4-aa4040034a6b",
   "metadata": {},
   "outputs": [],
   "source": [
    "df.loc[32,'horsepower'] = 75\n",
    "df.loc[126,'horsepower'] = 82\n",
    "df.loc[330,'horsepower'] = 50\n",
    "df.loc[336,'horsepower'] = 88\n",
    "df.loc[354,'horsepower'] = 82\n",
    "df.loc[374,'horsepower'] = 82"
   ]
  },
  {
   "cell_type": "code",
   "execution_count": 7,
   "id": "a87ce7b2-3503-439b-8b02-83423d0496e3",
   "metadata": {},
   "outputs": [
    {
     "data": {
      "text/html": [
       "<style type=\"text/css\">\n",
       "</style>\n",
       "<table id=\"T_2db4e\">\n",
       "  <thead>\n",
       "    <tr>\n",
       "      <th class=\"blank level0\" >&nbsp;</th>\n",
       "      <th id=\"T_2db4e_level0_col0\" class=\"col_heading level0 col0\" >mpg</th>\n",
       "      <th id=\"T_2db4e_level0_col1\" class=\"col_heading level0 col1\" >cylinders</th>\n",
       "      <th id=\"T_2db4e_level0_col2\" class=\"col_heading level0 col2\" >displacement</th>\n",
       "      <th id=\"T_2db4e_level0_col3\" class=\"col_heading level0 col3\" >weight</th>\n",
       "      <th id=\"T_2db4e_level0_col4\" class=\"col_heading level0 col4\" >acceleration</th>\n",
       "      <th id=\"T_2db4e_level0_col5\" class=\"col_heading level0 col5\" >model year</th>\n",
       "      <th id=\"T_2db4e_level0_col6\" class=\"col_heading level0 col6\" >origin</th>\n",
       "    </tr>\n",
       "  </thead>\n",
       "  <tbody>\n",
       "    <tr>\n",
       "      <th id=\"T_2db4e_level0_row0\" class=\"row_heading level0 row0\" >count</th>\n",
       "      <td id=\"T_2db4e_row0_col0\" class=\"data row0 col0\" >398.000</td>\n",
       "      <td id=\"T_2db4e_row0_col1\" class=\"data row0 col1\" >398.000</td>\n",
       "      <td id=\"T_2db4e_row0_col2\" class=\"data row0 col2\" >398.000</td>\n",
       "      <td id=\"T_2db4e_row0_col3\" class=\"data row0 col3\" >398.000</td>\n",
       "      <td id=\"T_2db4e_row0_col4\" class=\"data row0 col4\" >398.000</td>\n",
       "      <td id=\"T_2db4e_row0_col5\" class=\"data row0 col5\" >398.000</td>\n",
       "      <td id=\"T_2db4e_row0_col6\" class=\"data row0 col6\" >398.000</td>\n",
       "    </tr>\n",
       "    <tr>\n",
       "      <th id=\"T_2db4e_level0_row1\" class=\"row_heading level0 row1\" >mean</th>\n",
       "      <td id=\"T_2db4e_row1_col0\" class=\"data row1 col0\" >23.515</td>\n",
       "      <td id=\"T_2db4e_row1_col1\" class=\"data row1 col1\" >5.455</td>\n",
       "      <td id=\"T_2db4e_row1_col2\" class=\"data row1 col2\" >193.426</td>\n",
       "      <td id=\"T_2db4e_row1_col3\" class=\"data row1 col3\" >2970.425</td>\n",
       "      <td id=\"T_2db4e_row1_col4\" class=\"data row1 col4\" >15.568</td>\n",
       "      <td id=\"T_2db4e_row1_col5\" class=\"data row1 col5\" >76.010</td>\n",
       "      <td id=\"T_2db4e_row1_col6\" class=\"data row1 col6\" >1.573</td>\n",
       "    </tr>\n",
       "    <tr>\n",
       "      <th id=\"T_2db4e_level0_row2\" class=\"row_heading level0 row2\" >std</th>\n",
       "      <td id=\"T_2db4e_row2_col0\" class=\"data row2 col0\" >7.816</td>\n",
       "      <td id=\"T_2db4e_row2_col1\" class=\"data row2 col1\" >1.701</td>\n",
       "      <td id=\"T_2db4e_row2_col2\" class=\"data row2 col2\" >104.270</td>\n",
       "      <td id=\"T_2db4e_row2_col3\" class=\"data row2 col3\" >846.842</td>\n",
       "      <td id=\"T_2db4e_row2_col4\" class=\"data row2 col4\" >2.758</td>\n",
       "      <td id=\"T_2db4e_row2_col5\" class=\"data row2 col5\" >3.698</td>\n",
       "      <td id=\"T_2db4e_row2_col6\" class=\"data row2 col6\" >0.802</td>\n",
       "    </tr>\n",
       "    <tr>\n",
       "      <th id=\"T_2db4e_level0_row3\" class=\"row_heading level0 row3\" >min</th>\n",
       "      <td id=\"T_2db4e_row3_col0\" class=\"data row3 col0\" >9.000</td>\n",
       "      <td id=\"T_2db4e_row3_col1\" class=\"data row3 col1\" >3.000</td>\n",
       "      <td id=\"T_2db4e_row3_col2\" class=\"data row3 col2\" >68.000</td>\n",
       "      <td id=\"T_2db4e_row3_col3\" class=\"data row3 col3\" >1613.000</td>\n",
       "      <td id=\"T_2db4e_row3_col4\" class=\"data row3 col4\" >8.000</td>\n",
       "      <td id=\"T_2db4e_row3_col5\" class=\"data row3 col5\" >70.000</td>\n",
       "      <td id=\"T_2db4e_row3_col6\" class=\"data row3 col6\" >1.000</td>\n",
       "    </tr>\n",
       "    <tr>\n",
       "      <th id=\"T_2db4e_level0_row4\" class=\"row_heading level0 row4\" >25%</th>\n",
       "      <td id=\"T_2db4e_row4_col0\" class=\"data row4 col0\" >17.500</td>\n",
       "      <td id=\"T_2db4e_row4_col1\" class=\"data row4 col1\" >4.000</td>\n",
       "      <td id=\"T_2db4e_row4_col2\" class=\"data row4 col2\" >104.250</td>\n",
       "      <td id=\"T_2db4e_row4_col3\" class=\"data row4 col3\" >2223.750</td>\n",
       "      <td id=\"T_2db4e_row4_col4\" class=\"data row4 col4\" >13.825</td>\n",
       "      <td id=\"T_2db4e_row4_col5\" class=\"data row4 col5\" >73.000</td>\n",
       "      <td id=\"T_2db4e_row4_col6\" class=\"data row4 col6\" >1.000</td>\n",
       "    </tr>\n",
       "    <tr>\n",
       "      <th id=\"T_2db4e_level0_row5\" class=\"row_heading level0 row5\" >50%</th>\n",
       "      <td id=\"T_2db4e_row5_col0\" class=\"data row5 col0\" >23.000</td>\n",
       "      <td id=\"T_2db4e_row5_col1\" class=\"data row5 col1\" >4.000</td>\n",
       "      <td id=\"T_2db4e_row5_col2\" class=\"data row5 col2\" >148.500</td>\n",
       "      <td id=\"T_2db4e_row5_col3\" class=\"data row5 col3\" >2803.500</td>\n",
       "      <td id=\"T_2db4e_row5_col4\" class=\"data row5 col4\" >15.500</td>\n",
       "      <td id=\"T_2db4e_row5_col5\" class=\"data row5 col5\" >76.000</td>\n",
       "      <td id=\"T_2db4e_row5_col6\" class=\"data row5 col6\" >1.000</td>\n",
       "    </tr>\n",
       "    <tr>\n",
       "      <th id=\"T_2db4e_level0_row6\" class=\"row_heading level0 row6\" >75%</th>\n",
       "      <td id=\"T_2db4e_row6_col0\" class=\"data row6 col0\" >29.000</td>\n",
       "      <td id=\"T_2db4e_row6_col1\" class=\"data row6 col1\" >8.000</td>\n",
       "      <td id=\"T_2db4e_row6_col2\" class=\"data row6 col2\" >262.000</td>\n",
       "      <td id=\"T_2db4e_row6_col3\" class=\"data row6 col3\" >3608.000</td>\n",
       "      <td id=\"T_2db4e_row6_col4\" class=\"data row6 col4\" >17.175</td>\n",
       "      <td id=\"T_2db4e_row6_col5\" class=\"data row6 col5\" >79.000</td>\n",
       "      <td id=\"T_2db4e_row6_col6\" class=\"data row6 col6\" >2.000</td>\n",
       "    </tr>\n",
       "    <tr>\n",
       "      <th id=\"T_2db4e_level0_row7\" class=\"row_heading level0 row7\" >max</th>\n",
       "      <td id=\"T_2db4e_row7_col0\" class=\"data row7 col0\" >46.600</td>\n",
       "      <td id=\"T_2db4e_row7_col1\" class=\"data row7 col1\" >8.000</td>\n",
       "      <td id=\"T_2db4e_row7_col2\" class=\"data row7 col2\" >455.000</td>\n",
       "      <td id=\"T_2db4e_row7_col3\" class=\"data row7 col3\" >5140.000</td>\n",
       "      <td id=\"T_2db4e_row7_col4\" class=\"data row7 col4\" >24.800</td>\n",
       "      <td id=\"T_2db4e_row7_col5\" class=\"data row7 col5\" >82.000</td>\n",
       "      <td id=\"T_2db4e_row7_col6\" class=\"data row7 col6\" >3.000</td>\n",
       "    </tr>\n",
       "  </tbody>\n",
       "</table>\n"
      ],
      "text/plain": [
       "<pandas.io.formats.style.Styler at 0x1c3a005e820>"
      ]
     },
     "execution_count": 7,
     "metadata": {},
     "output_type": "execute_result"
    }
   ],
   "source": [
    "df.describe().style.format(precision=3)  "
   ]
  },
  {
   "cell_type": "code",
   "execution_count": 27,
   "id": "be4b2874-4dd9-446a-bd93-000084cd23d2",
   "metadata": {},
   "outputs": [
    {
     "data": {
      "text/plain": [
       "<AxesSubplot:>"
      ]
     },
     "execution_count": 27,
     "metadata": {},
     "output_type": "execute_result"
    },
    {
     "data": {
      "image/png": "[encoded data removed]",
      "text/plain": [
       "<Figure size 600x300 with 2 Axes>"
      ]
     },
     "metadata": {},
     "output_type": "display_data"
    }
   ],
   "source": [
    "#correlation\n",
    "plt.figure(figsize=(6,3))\n",
    "mask = np.triu(np.ones_like(df.corr(), dtype=bool))\n",
    "\n",
    "sns.heatmap(df.corr(),annot=True, mask=mask, cmap='RdBu')"
   ]
  },
  {
   "cell_type": "code",
   "execution_count": 58,
   "id": "397e98a7-ff63-433d-939b-adfc65b8be0c",
   "metadata": {},
   "outputs": [
    {
     "data": {
      "image/png": "[encoded data removed]",
      "text/plain": [
       "<Figure size 1500x300 with 3 Axes>"
      ]
     },
     "metadata": {},
     "output_type": "display_data"
    }
   ],
   "source": [
    "   \n",
    "fig = plt.figure(figsize=(15,3))\n",
    "fig.suptitle('cylinders')\n",
    "ax1 = fig.add_subplot(1,3,1)\n",
    "ax2 = fig.add_subplot(1,3,2)\n",
    "ax3 = fig.add_subplot(1,3,3)\n",
    "\n",
    "\n",
    "# ax1: hist plot\n",
    "sns.histplot(data=df, x='cylinders',  ax=ax1)\n",
    "\n",
    "# ax2: box plot\n",
    "sns.boxplot(data=df, y='mpg', x='cylinders', ax=ax2)\n",
    "    \n",
    "# ax3: scatter plot  \n",
    "# sb.scatterplot(data=df, y='price', x=feature, ax=ax3)\n",
    "cor = round(df['mpg'].corr(df['cylinders']),3)\n",
    "sns.regplot(data=df, y='mpg', x='cylinders', line_kws={'color':'black'},label='Corr:'+str(cor), scatter_kws={'alpha':0.2}, ax=ax3)\n",
    "ax3.legend()\n",
    "    \n",
    "    \n",
    "plt.show(fig)"
   ]
  },
  {
   "cell_type": "code",
   "execution_count": null,
   "id": "1daba942-7e31-4d5d-a97e-d468123dd26d",
   "metadata": {},
   "outputs": [],
   "source": []
  }
 ],
 "metadata": {
  "kernelspec": {
   "display_name": "Python 3 (ipykernel)",
   "language": "python",
   "name": "python3"
  },
  "language_info": {
   "codemirror_mode": {
    "name": "ipython",
    "version": 3
   },
   "file_extension": ".py",
   "mimetype": "text/x-python",
   "name": "python",
   "nbconvert_exporter": "python",
   "pygments_lexer": "ipython3",
   "version": "3.9.13"
  }
 },
 "nbformat": 4,
 "nbformat_minor": 5
}
