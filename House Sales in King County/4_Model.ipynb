{
 "cells": [
  {
   "cell_type": "markdown",
   "id": "74ecf61b-26b5-49f2-8356-c01fd39f2894",
   "metadata": {},
   "source": [
    "# House Sales in King County\n",
    "#### Build linear regression model using scikit-learn.\n",
    "1. Check Variance inflation factor (VIF) again after Standardize features.\n",
    "2. Build linear regression model with and without polynomial feature expansion."
   ]
  },
  {
   "cell_type": "markdown",
   "id": "42879cf7-9bd8-464d-a2f0-5de254ff4821",
   "metadata": {},
   "source": [
    "### Libraries"
   ]
  },
  {
   "cell_type": "code",
   "execution_count": 72,
   "id": "863197b2-74d2-4ded-a9e5-6bb8a24e0009",
   "metadata": {},
   "outputs": [],
   "source": [
    "import pandas as pd\n",
    "import matplotlib.pyplot as plt\n",
    "import seaborn as sb\n",
    "from sklearn.model_selection import train_test_split\n",
    "from sklearn.preprocessing import StandardScaler\n",
    "from sklearn.linear_model import LinearRegression\n",
    "from sklearn.pipeline import Pipeline\n",
    "from sklearn.metrics import *"
   ]
  },
  {
   "cell_type": "markdown",
   "id": "c6759cd4-29b1-48cf-81f9-4d4d8cd2ad6e",
   "metadata": {},
   "source": [
    "### Pandas and Seaborn Setting"
   ]
  },
  {
   "cell_type": "code",
   "execution_count": 5,
   "id": "11a237c7-25d3-4aab-8ef0-69af41e677fa",
   "metadata": {},
   "outputs": [],
   "source": [
    "# changing the max_columns value\n",
    "pd.set_option(\"display.max_columns\", None)\n",
    "\n",
    "# set seaborn theme\n",
    "sb.set_theme()"
   ]
  },
  {
   "cell_type": "code",
   "execution_count": 9,
   "id": "24f1c1fb-dbe3-4a37-8bb3-ddf178ece789",
   "metadata": {},
   "outputs": [
    {
     "data": {
      "text/html": [
       "<div>\n",
       "<style scoped>\n",
       "    .dataframe tbody tr th:only-of-type {\n",
       "        vertical-align: middle;\n",
       "    }\n",
       "\n",
       "    .dataframe tbody tr th {\n",
       "        vertical-align: top;\n",
       "    }\n",
       "\n",
       "    .dataframe thead th {\n",
       "        text-align: right;\n",
       "    }\n",
       "</style>\n",
       "<table border=\"1\" class=\"dataframe\">\n",
       "  <thead>\n",
       "    <tr style=\"text-align: right;\">\n",
       "      <th></th>\n",
       "      <th>price</th>\n",
       "      <th>bathrooms</th>\n",
       "      <th>grade</th>\n",
       "      <th>sqft_above</th>\n",
       "      <th>sqft_living15</th>\n",
       "      <th>zipcode</th>\n",
       "      <th>zip_encoder</th>\n",
       "      <th>grade2</th>\n",
       "      <th>zip_encoder2</th>\n",
       "    </tr>\n",
       "  </thead>\n",
       "  <tbody>\n",
       "    <tr>\n",
       "      <th>0</th>\n",
       "      <td>221900.0</td>\n",
       "      <td>1.00</td>\n",
       "      <td>7</td>\n",
       "      <td>1180</td>\n",
       "      <td>1340</td>\n",
       "      <td>98178</td>\n",
       "      <td>13</td>\n",
       "      <td>49</td>\n",
       "      <td>169</td>\n",
       "    </tr>\n",
       "    <tr>\n",
       "      <th>1</th>\n",
       "      <td>538000.0</td>\n",
       "      <td>2.25</td>\n",
       "      <td>7</td>\n",
       "      <td>2170</td>\n",
       "      <td>1690</td>\n",
       "      <td>98125</td>\n",
       "      <td>33</td>\n",
       "      <td>49</td>\n",
       "      <td>1089</td>\n",
       "    </tr>\n",
       "    <tr>\n",
       "      <th>2</th>\n",
       "      <td>180000.0</td>\n",
       "      <td>1.00</td>\n",
       "      <td>6</td>\n",
       "      <td>770</td>\n",
       "      <td>2720</td>\n",
       "      <td>98028</td>\n",
       "      <td>31</td>\n",
       "      <td>36</td>\n",
       "      <td>961</td>\n",
       "    </tr>\n",
       "    <tr>\n",
       "      <th>3</th>\n",
       "      <td>604000.0</td>\n",
       "      <td>3.00</td>\n",
       "      <td>7</td>\n",
       "      <td>1050</td>\n",
       "      <td>1360</td>\n",
       "      <td>98136</td>\n",
       "      <td>39</td>\n",
       "      <td>49</td>\n",
       "      <td>1521</td>\n",
       "    </tr>\n",
       "    <tr>\n",
       "      <th>4</th>\n",
       "      <td>510000.0</td>\n",
       "      <td>2.00</td>\n",
       "      <td>8</td>\n",
       "      <td>1680</td>\n",
       "      <td>1800</td>\n",
       "      <td>98074</td>\n",
       "      <td>57</td>\n",
       "      <td>64</td>\n",
       "      <td>3249</td>\n",
       "    </tr>\n",
       "  </tbody>\n",
       "</table>\n",
       "</div>"
      ],
      "text/plain": [
       "      price  bathrooms  grade  sqft_above  sqft_living15  zipcode  \\\n",
       "0  221900.0       1.00      7        1180           1340    98178   \n",
       "1  538000.0       2.25      7        2170           1690    98125   \n",
       "2  180000.0       1.00      6         770           2720    98028   \n",
       "3  604000.0       3.00      7        1050           1360    98136   \n",
       "4  510000.0       2.00      8        1680           1800    98074   \n",
       "\n",
       "   zip_encoder  grade2  zip_encoder2  \n",
       "0           13      49           169  \n",
       "1           33      49          1089  \n",
       "2           31      36           961  \n",
       "3           39      49          1521  \n",
       "4           57      64          3249  "
      ]
     },
     "execution_count": 9,
     "metadata": {},
     "output_type": "execute_result"
    }
   ],
   "source": [
    "df = pd.read_csv('df_feature.csv')\n",
    "df.head()"
   ]
  },
  {
   "cell_type": "markdown",
   "id": "e5929210-bffa-47b8-91bd-0c77084d9c9a",
   "metadata": {
    "tags": []
   },
   "source": [
    "## X and Y data"
   ]
  },
  {
   "cell_type": "code",
   "execution_count": 11,
   "id": "3efb3511-af22-4b75-a259-a279578aeab9",
   "metadata": {},
   "outputs": [],
   "source": [
    "x_data = df.drop(['price'],axis=1)\n",
    "y_data = df['price']"
   ]
  },
  {
   "cell_type": "markdown",
   "id": "4c54bddb-a0e4-4226-9f2f-b9512b6a5bc6",
   "metadata": {
    "tags": []
   },
   "source": [
    "## StandardScaler to reduce Variance inflation factor (VIF)"
   ]
  },
  {
   "cell_type": "code",
   "execution_count": 57,
   "id": "fb8c0e34-818a-40d1-9569-52e98ef9e9e3",
   "metadata": {},
   "outputs": [],
   "source": [
    "# transform x_data using StandardScaler()\n",
    "scaler = StandardScaler()\n",
    "x_scaled = pd.DataFrame(scaler.fit_transform(x_data), columns=x_data.columns)"
   ]
  },
  {
   "cell_type": "code",
   "execution_count": 58,
   "id": "9bf9b78e-434b-46d2-bfcf-9bac67b93ac7",
   "metadata": {},
   "outputs": [],
   "source": [
    "# import VIF function from statsmodels\n",
    "from statsmodels.stats.outliers_influence import variance_inflation_factor"
   ]
  },
  {
   "cell_type": "code",
   "execution_count": 59,
   "id": "717be0a3-8d07-496b-95d9-8ff65dbc33cb",
   "metadata": {},
   "outputs": [],
   "source": [
    "# define variables\n",
    "features = ['bathrooms','grade','sqft_above', 'sqft_living15','zip_encoder']\n",
    "X_scaled = x_scaled[features] \n",
    "X_data = x_data[features]"
   ]
  },
  {
   "cell_type": "code",
   "execution_count": 60,
   "id": "b0c27ede-018a-4dca-a2f3-5284d0203428",
   "metadata": {},
   "outputs": [
    {
     "data": {
      "text/html": [
       "<div>\n",
       "<style scoped>\n",
       "    .dataframe tbody tr th:only-of-type {\n",
       "        vertical-align: middle;\n",
       "    }\n",
       "\n",
       "    .dataframe tbody tr th {\n",
       "        vertical-align: top;\n",
       "    }\n",
       "\n",
       "    .dataframe thead th {\n",
       "        text-align: right;\n",
       "    }\n",
       "</style>\n",
       "<table border=\"1\" class=\"dataframe\">\n",
       "  <thead>\n",
       "    <tr style=\"text-align: right;\">\n",
       "      <th></th>\n",
       "      <th>Feature</th>\n",
       "      <th>VIF_Standardized</th>\n",
       "      <th>VIF_Original</th>\n",
       "    </tr>\n",
       "  </thead>\n",
       "  <tbody>\n",
       "    <tr>\n",
       "      <th>0</th>\n",
       "      <td>bathrooms</td>\n",
       "      <td>2.085351</td>\n",
       "      <td>17.715750</td>\n",
       "    </tr>\n",
       "    <tr>\n",
       "      <th>1</th>\n",
       "      <td>grade</td>\n",
       "      <td>3.093730</td>\n",
       "      <td>26.542651</td>\n",
       "    </tr>\n",
       "    <tr>\n",
       "      <th>2</th>\n",
       "      <td>sqft_above</td>\n",
       "      <td>3.245791</td>\n",
       "      <td>15.398978</td>\n",
       "    </tr>\n",
       "    <tr>\n",
       "      <th>3</th>\n",
       "      <td>sqft_living15</td>\n",
       "      <td>2.522510</td>\n",
       "      <td>23.557256</td>\n",
       "    </tr>\n",
       "    <tr>\n",
       "      <th>4</th>\n",
       "      <td>zip_encoder</td>\n",
       "      <td>1.189749</td>\n",
       "      <td>5.260702</td>\n",
       "    </tr>\n",
       "  </tbody>\n",
       "</table>\n",
       "</div>"
      ],
      "text/plain": [
       "         Feature  VIF_Standardized  VIF_Original\n",
       "0      bathrooms          2.085351     17.715750\n",
       "1          grade          3.093730     26.542651\n",
       "2     sqft_above          3.245791     15.398978\n",
       "3  sqft_living15          2.522510     23.557256\n",
       "4    zip_encoder          1.189749      5.260702"
      ]
     },
     "execution_count": 60,
     "metadata": {},
     "output_type": "execute_result"
    }
   ],
   "source": [
    "# Construct VIF dataframe\n",
    "df_VIF = pd.DataFrame()\n",
    "df_VIF['Feature'] = features\n",
    "\n",
    "# Calculate VIF for each variables\n",
    "df_VIF['VIF_Standardized'] = [variance_inflation_factor(X_scaled.values, i) for i in range(len(X_scaled.columns))]\n",
    "df_VIF['VIF_Original'] = [variance_inflation_factor(X_data.values, i) for i in range(len(X_data.columns))]\n",
    "df_VIF"
   ]
  },
  {
   "cell_type": "markdown",
   "id": "1e58a0d4-fb13-4486-8338-a66fec57f8c6",
   "metadata": {},
   "source": [
    "### Summery\n",
    "* After transfrom the features with StandardScaler(), it is confirmed that the VIF is reduced to the range between 1 to 5 compared to the original values."
   ]
  },
  {
   "cell_type": "markdown",
   "id": "15fe0f71-24c2-4d97-93b6-0ea5e5ac9fd4",
   "metadata": {
    "tags": []
   },
   "source": [
    "## Build linear regression model"
   ]
  },
  {
   "cell_type": "markdown",
   "id": "a1b61da8-c044-4c48-8279-6507aac11597",
   "metadata": {},
   "source": [
    "### Features"
   ]
  },
  {
   "cell_type": "code",
   "execution_count": 80,
   "id": "026d27ed-a416-4cc9-beb7-e970abd5c488",
   "metadata": {},
   "outputs": [],
   "source": [
    "features = ['bathrooms','grade','sqft_above', 'sqft_living15','zip_encoder']\n",
    "x_data = df[features]\n",
    "y_data = df['price']"
   ]
  },
  {
   "cell_type": "markdown",
   "id": "fe2c81bc-ac78-48cf-8e03-0fc59d0542c3",
   "metadata": {},
   "source": [
    "### Split train and test set"
   ]
  },
  {
   "cell_type": "code",
   "execution_count": 81,
   "id": "3d37a041-ca22-4eff-82a8-98eea133b184",
   "metadata": {},
   "outputs": [],
   "source": [
    "#  spilt\n",
    "x_train, x_test, y_train, y_test = train_test_split(x_data, y_data, test_size=0.2, random_state=42)"
   ]
  },
  {
   "cell_type": "markdown",
   "id": "a4f5912c-65cb-4507-bad4-92d22365064b",
   "metadata": {
    "tags": []
   },
   "source": [
    "### Build pipeline"
   ]
  },
  {
   "cell_type": "code",
   "execution_count": 82,
   "id": "3342a556-b315-4c70-9dd8-d7de817872bd",
   "metadata": {},
   "outputs": [],
   "source": [
    "Input = [('scale',StandardScaler()), ('model',LinearRegression())]\n",
    "pipe = Pipeline(Input)"
   ]
  },
  {
   "cell_type": "markdown",
   "id": "4bc2a38b-b389-4b3f-9b37-bb280b677d7e",
   "metadata": {},
   "source": [
    "### Fit"
   ]
  },
  {
   "cell_type": "code",
   "execution_count": 83,
   "id": "6644d2c0-76dc-49c2-9c9d-99784fdc7c48",
   "metadata": {},
   "outputs": [
    {
     "data": {
      "text/plain": [
       "Pipeline(steps=[('scale', StandardScaler()), ('model', LinearRegression())])"
      ]
     },
     "execution_count": 83,
     "metadata": {},
     "output_type": "execute_result"
    }
   ],
   "source": [
    "pipe.fit(x_train, y_train)"
   ]
  },
  {
   "cell_type": "markdown",
   "id": "a4f3483c-d126-43d0-bbfc-26fb24a3dbb5",
   "metadata": {},
   "source": [
    "### Evaluation"
   ]
  },
  {
   "cell_type": "code",
   "execution_count": 84,
   "id": "766f60ef-e263-48fb-aad6-42430f61c591",
   "metadata": {},
   "outputs": [
    {
     "name": "stdout",
     "output_type": "stream",
     "text": [
      "R-Squared: 0.5986966538145935\n",
      "RMSE: 246308.18194689535\n"
     ]
    }
   ],
   "source": [
    "prediction = pipe.predict(x_test)\n",
    "score = r2_score(y_test, prediction)\n",
    "rmse = mean_squared_error(y_test, prediction, squared=False)\n",
    "print('R-Squared:',score)\n",
    "print('RMSE:',rmse)"
   ]
  },
  {
   "cell_type": "markdown",
   "id": "e5504fdf-1aeb-4bf0-97f0-e945d4d028be",
   "metadata": {
    "tags": []
   },
   "source": [
    "## Build linear regression model with polynomial feature expansio"
   ]
  },
  {
   "cell_type": "markdown",
   "id": "aec1fa71-8dc9-4fdf-a1a7-200369bc5fdf",
   "metadata": {},
   "source": [
    "### Features"
   ]
  },
  {
   "cell_type": "code",
   "execution_count": 85,
   "id": "98f292f7-3396-4d7e-ba24-79a98f6574f4",
   "metadata": {},
   "outputs": [],
   "source": [
    "features = ['bathrooms','grade','sqft_above', 'sqft_living15','zip_encoder', 'grade2', 'zip_encoder2']\n",
    "x_data = df[features]\n",
    "y_data = df['price']"
   ]
  },
  {
   "cell_type": "markdown",
   "id": "0d062285-7f7c-4bd5-8730-7a46d3b00302",
   "metadata": {},
   "source": [
    "### Split train and test set"
   ]
  },
  {
   "cell_type": "code",
   "execution_count": 86,
   "id": "eece095d-aa8c-43b7-9179-67ca2932d912",
   "metadata": {},
   "outputs": [],
   "source": [
    "#  spilt\n",
    "x_train, x_test, y_train, y_test = train_test_split(x_data, y_data, test_size=0.2, random_state=42)"
   ]
  },
  {
   "cell_type": "markdown",
   "id": "644ac7cd-4208-4dc8-8188-451c107b5c44",
   "metadata": {
    "tags": []
   },
   "source": [
    "### Build pipeline"
   ]
  },
  {
   "cell_type": "code",
   "execution_count": 87,
   "id": "5f63d02e-ca82-465e-8c81-913fe49c7937",
   "metadata": {},
   "outputs": [],
   "source": [
    "Input = [('scale',StandardScaler()), ('model',LinearRegression())]\n",
    "pipe = Pipeline(Input)"
   ]
  },
  {
   "cell_type": "markdown",
   "id": "06725797-0ac0-40e1-ae62-09f64c9dcc24",
   "metadata": {},
   "source": [
    "### Fit"
   ]
  },
  {
   "cell_type": "code",
   "execution_count": 88,
   "id": "90ba4272-7722-4d70-92cc-0d25d383cb4d",
   "metadata": {},
   "outputs": [
    {
     "data": {
      "text/plain": [
       "Pipeline(steps=[('scale', StandardScaler()), ('model', LinearRegression())])"
      ]
     },
     "execution_count": 88,
     "metadata": {},
     "output_type": "execute_result"
    }
   ],
   "source": [
    "pipe.fit(x_train, y_train)"
   ]
  },
  {
   "cell_type": "markdown",
   "id": "76aae418-0a02-4870-8226-54a5dc2ba06d",
   "metadata": {},
   "source": [
    "### Evaluation"
   ]
  },
  {
   "cell_type": "code",
   "execution_count": 89,
   "id": "25386ccf-7a9a-4eff-ac19-dca735371a8d",
   "metadata": {},
   "outputs": [
    {
     "name": "stdout",
     "output_type": "stream",
     "text": [
      "R-Squared: 0.6682729237417213\n",
      "RMSE: 223940.63667701336\n"
     ]
    }
   ],
   "source": [
    "prediction = pipe.predict(x_test)\n",
    "score = r2_score(y_test, prediction)\n",
    "rmse = mean_squared_error(y_test, prediction, squared=False)\n",
    "print('R-Squared:',score)\n",
    "print('RMSE:',rmse)"
   ]
  },
  {
   "cell_type": "code",
   "execution_count": null,
   "id": "0242da3d-de3b-4301-b8dd-9592459c02d0",
   "metadata": {},
   "outputs": [],
   "source": []
  }
 ],
 "metadata": {
  "kernelspec": {
   "display_name": "Python 3 (ipykernel)",
   "language": "python",
   "name": "python3"
  },
  "language_info": {
   "codemirror_mode": {
    "name": "ipython",
    "version": 3
   },
   "file_extension": ".py",
   "mimetype": "text/x-python",
   "name": "python",
   "nbconvert_exporter": "python",
   "pygments_lexer": "ipython3",
   "version": "3.9.13"
  }
 },
 "nbformat": 4,
 "nbformat_minor": 5
}
